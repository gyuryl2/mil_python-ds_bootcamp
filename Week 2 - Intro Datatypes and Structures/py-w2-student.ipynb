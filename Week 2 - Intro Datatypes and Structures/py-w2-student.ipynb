{
 "cells": [
  {
   "cell_type": "markdown",
   "metadata": {},
   "source": [
    "### Week 2 - Introduction to Python Datatypes and Structures.\n",
    "Outline:\n",
    "1. Review of Python Basics\n",
    "\n",
    "2. Lists & Objects\n",
    "3. Control Structures and Conditions"
   ]
  },
  {
   "cell_type": "markdown",
   "metadata": {},
   "source": [
    "## Section 2: Lists and Objects\n",
    "\n",
    "In Python, you encounter various data types, such as integers, Booleans, strings, and characters, which are considered basic data types. However, Python offers a broader world of data structures that are more complex and versatile. These advanced data structures are called **objects**.\n",
    "\n",
    "**Objects** in Python are not limited to storing just one basic data type. They can encapsulate a mix of basic data types or even other objects. What sets objects apart is their special behaviors, which can include methods and attributes unique to each object.\n",
    "\n",
    "As a Python beginner, it's important to understand the significance of objects in Python programming. They open the door to a wide range of possibilities. In this section, we will delve into two such versatile object called **lists** and **dictionaries**.\n",
    "\n",
    "Lists are incredibly useful for storing collections of items, and they are a fundamental data structure in Python. You can think of a list as an ordered sequence that can hold various data types, making it a versatile tool for many programming tasks.\n"
   ]
  },
  {
   "cell_type": "code",
   "execution_count": 1,
   "metadata": {},
   "outputs": [],
   "source": [
    "# Creating a list\n",
    "class_scores = [.85, .60, 1.0, .95, .9, .7]"
   ]
  },
  {
   "cell_type": "code",
   "execution_count": 2,
   "metadata": {},
   "outputs": [
    {
     "data": {
      "text/plain": [
       "[0.85, 0.6, 1.0, 0.95, 0.9, 0.7]"
      ]
     },
     "execution_count": 2,
     "metadata": {},
     "output_type": "execute_result"
    }
   ],
   "source": [
    "class_scores"
   ]
  },
  {
   "cell_type": "code",
   "execution_count": 3,
   "metadata": {},
   "outputs": [
    {
     "data": {
      "text/plain": [
       "0.8333333333333335"
      ]
     },
     "execution_count": 3,
     "metadata": {},
     "output_type": "execute_result"
    }
   ],
   "source": [
    "# Compute the average score using special behaviors of a list\n",
    "#sum() is a function that adds up all the values \n",
    "#len() is a function that tells you the amount of values stored in the array. \n",
    "#this actually works for \n",
    "#Finding the amount of characters in a string as well!\n",
    "sum(class_scores) / len(class_scores)"
   ]
  },
  {
   "cell_type": "markdown",
   "metadata": {},
   "source": [
    "Individual items within a list can be accessed using their index. Indicies are what the computer uses to remember the order of the items in your list. Indicies start at 0 and end at len(list) - 1."
   ]
  },
  {
   "cell_type": "code",
   "execution_count": 4,
   "metadata": {},
   "outputs": [
    {
     "data": {
      "text/plain": [
       "0.85"
      ]
     },
     "execution_count": 4,
     "metadata": {},
     "output_type": "execute_result"
    }
   ],
   "source": [
    "class_scores[0]"
   ]
  },
  {
   "cell_type": "code",
   "execution_count": 5,
   "metadata": {},
   "outputs": [
    {
     "data": {
      "text/plain": [
       "0.6"
      ]
     },
     "execution_count": 5,
     "metadata": {},
     "output_type": "execute_result"
    }
   ],
   "source": [
    "class_scores[1]"
   ]
  },
  {
   "cell_type": "code",
   "execution_count": 6,
   "metadata": {},
   "outputs": [
    {
     "data": {
      "text/plain": [
       "[0.85, 0.6, 1.0, 0.95, 0.9, 0.7, 0.44]"
      ]
     },
     "execution_count": 6,
     "metadata": {},
     "output_type": "execute_result"
    }
   ],
   "source": [
    "class_scores.append(.44)\n",
    "class_scores\n",
    "\n",
    "#class_scores.remove(.44)\n",
    "#class_scores\n"
   ]
  },
  {
   "cell_type": "code",
   "execution_count": 7,
   "metadata": {},
   "outputs": [
    {
     "data": {
      "text/plain": [
       "[0.85, 0.6, 1.0]"
      ]
     },
     "execution_count": 7,
     "metadata": {},
     "output_type": "execute_result"
    }
   ],
   "source": [
    "# A subset of a list can be obtained using the : operator ('slicing')\n",
    "#      : returns a subset beginning at the first index and ending BEFORE the last index\n",
    "#      in other words, inclusive:exclusive\n",
    "class_scores[0:3]"
   ]
  },
  {
   "cell_type": "code",
   "execution_count": 8,
   "metadata": {},
   "outputs": [],
   "source": [
    "# A list's value can be updated via its index\n",
    "class_scores[0] = 1.0"
   ]
  },
  {
   "cell_type": "code",
   "execution_count": 9,
   "metadata": {},
   "outputs": [
    {
     "data": {
      "text/plain": [
       "[1.0, 0.6, 1.0, 0.95, 0.9, 0.7, 0.44]"
      ]
     },
     "execution_count": 9,
     "metadata": {},
     "output_type": "execute_result"
    }
   ],
   "source": [
    "class_scores"
   ]
  },
  {
   "cell_type": "markdown",
   "metadata": {},
   "source": [
    "## Dictionaries in Python\n",
    "\n",
    "In Python, a **dictionary** is a powerful data structure that allows you to store and retrieve data using key-value pairs. It is sometimes referred to as an associative array, hash map, or hash table in other programming languages.\n",
    "\n",
    "### What is a Dictionary?\n",
    "\n",
    "- A dictionary is enclosed in curly braces `{}`.\n",
    "- It consists of key-value pairs separated by a colon `:`.\n",
    "\n",
    "Here's a simple example of a dictionary:\n"
   ]
  },
  {
   "cell_type": "code",
   "execution_count": 10,
   "metadata": {},
   "outputs": [],
   "source": [
    "named_class_scores = {'Adam' : .8, \n",
    "                     'Eddie' : 1.0,\n",
    "                     'Bennett' : .9,\n",
    "                     'Mariel' : .85}"
   ]
  },
  {
   "cell_type": "markdown",
   "metadata": {},
   "source": [
    "### Accessing Values\n",
    "\n",
    "To access a value in a dictionary, you use the associated key:"
   ]
  },
  {
   "cell_type": "code",
   "execution_count": 11,
   "metadata": {},
   "outputs": [
    {
     "data": {
      "text/plain": [
       "0.8"
      ]
     },
     "execution_count": 11,
     "metadata": {},
     "output_type": "execute_result"
    }
   ],
   "source": [
    "named_class_scores['Adam']"
   ]
  },
  {
   "cell_type": "markdown",
   "metadata": {},
   "source": [
    "### Modifying and Adding Entries\n",
    "\n",
    "You can modify an existing entry or add new ones to the dictionary:"
   ]
  },
  {
   "cell_type": "code",
   "execution_count": 12,
   "metadata": {},
   "outputs": [
    {
     "data": {
      "text/plain": [
       "0.75"
      ]
     },
     "execution_count": 12,
     "metadata": {},
     "output_type": "execute_result"
    }
   ],
   "source": [
    "named_class_scores['Adam'] = 0.75\n",
    "named_class_scores['Adam']"
   ]
  },
  {
   "cell_type": "code",
   "execution_count": 13,
   "metadata": {},
   "outputs": [
    {
     "data": {
      "text/plain": [
       "{'Adam': 0.75,\n",
       " 'Eddie': 1.0,\n",
       " 'Bennett': 0.9,\n",
       " 'Mariel': 0.85,\n",
       " 'new_person': 0.45}"
      ]
     },
     "execution_count": 13,
     "metadata": {},
     "output_type": "execute_result"
    }
   ],
   "source": [
    "named_class_scores['new_person'] = 0.45\n",
    "named_class_scores"
   ]
  },
  {
   "cell_type": "markdown",
   "metadata": {},
   "source": [
    "### Dictionary-specific methods\n",
    "\n",
    "Dictionaries in Python come with a variety of useful methods that allow you to manipulate, access, and perform operations on the key-value pairs they contain. Here are some commonly used methods for dictionaries:"
   ]
  },
  {
   "cell_type": "code",
   "execution_count": 14,
   "metadata": {},
   "outputs": [
    {
     "data": {
      "text/plain": [
       "dict_keys(['Adam', 'Eddie', 'Bennett', 'Mariel', 'new_person'])"
      ]
     },
     "execution_count": 14,
     "metadata": {},
     "output_type": "execute_result"
    }
   ],
   "source": [
    "# keys() : obtain all keys in the dictionary\n",
    "named_class_scores.keys()"
   ]
  },
  {
   "cell_type": "code",
   "execution_count": 15,
   "metadata": {},
   "outputs": [
    {
     "data": {
      "text/plain": [
       "dict_values([0.75, 1.0, 0.9, 0.85, 0.45])"
      ]
     },
     "execution_count": 15,
     "metadata": {},
     "output_type": "execute_result"
    }
   ],
   "source": [
    "# values() : obtain all values in the dictionary\n",
    "named_class_scores.values()"
   ]
  },
  {
   "cell_type": "code",
   "execution_count": 16,
   "metadata": {},
   "outputs": [
    {
     "data": {
      "text/plain": [
       "{}"
      ]
     },
     "execution_count": 16,
     "metadata": {},
     "output_type": "execute_result"
    }
   ],
   "source": [
    "# clear() : Remove all key-value pairs from the dictionary, leaving it empty\n",
    "named_class_scores.clear()\n",
    "named_class_scores"
   ]
  },
  {
   "cell_type": "markdown",
   "metadata": {},
   "source": [
    "#### Practice - Section 1"
   ]
  },
  {
   "cell_type": "markdown",
   "metadata": {},
   "source": [
    "1. Create a list containing your courses this semester"
   ]
  },
  {
   "cell_type": "code",
   "execution_count": null,
   "metadata": {},
   "outputs": [],
   "source": []
  },
  {
   "cell_type": "markdown",
   "metadata": {},
   "source": [
    "2. Append \"MarketLab Essentials\" to your list"
   ]
  },
  {
   "cell_type": "code",
   "execution_count": null,
   "metadata": {},
   "outputs": [],
   "source": []
  },
  {
   "cell_type": "markdown",
   "metadata": {},
   "source": [
    "3. Let's check if Bus 101 is in your list!\n",
    "\n",
    "   Type:\n",
    "\n",
    "   ```python\n",
    "   \"BUS 101\" in [your_list_name]\n",
    "\n",
    "   below!"
   ]
  },
  {
   "cell_type": "code",
   "execution_count": null,
   "metadata": {},
   "outputs": [],
   "source": []
  },
  {
   "cell_type": "markdown",
   "metadata": {},
   "source": [
    "4. Print out the second item in your list"
   ]
  },
  {
   "cell_type": "code",
   "execution_count": null,
   "metadata": {},
   "outputs": [],
   "source": []
  },
  {
   "cell_type": "markdown",
   "metadata": {},
   "source": [
    "5. Print out the last item of your list"
   ]
  },
  {
   "cell_type": "code",
   "execution_count": null,
   "metadata": {},
   "outputs": [],
   "source": []
  },
  {
   "cell_type": "markdown",
   "metadata": {},
   "source": [
    "6. Create a dictionary called student that contains your name, age, and year in school as a string (\"Freshman\", \"Sophomore\", \"Junior\", or \"Senior\")"
   ]
  },
  {
   "cell_type": "code",
   "execution_count": null,
   "metadata": {},
   "outputs": [],
   "source": []
  },
  {
   "cell_type": "markdown",
   "metadata": {},
   "source": [
    "7. Surprise: it's actually your birthday today! Happy birthday, here's your birthday present task: update your age to be 1 higher than your current age in your dictionary."
   ]
  },
  {
   "cell_type": "code",
   "execution_count": null,
   "metadata": {},
   "outputs": [],
   "source": []
  },
  {
   "cell_type": "markdown",
   "metadata": {},
   "source": [
    "## Section 3: Control Structures\n",
    "\n",
    "Usually, code executes line-by-line. The computer will read from the top of the document to the bottom and execute code accordingly. There are several ways to change this, one of which is using a Control Stucture.\n",
    "\n",
    "A control structure is a block of programming that analyses variables and chooses a direction in which to go based on given parameters\n",
    "\n",
    "We will look at three commmon control structures:\n",
    "    1. For loop\n",
    "    2. While loop\n",
    "    3. If-elif-else statement"
   ]
  },
  {
   "cell_type": "markdown",
   "metadata": {},
   "source": [
    "## For Loop\n",
    "\n",
    "A `for` loop is used to execute a block of code multiple times. Typically, you use a `for` loop when you want to execute this block a **known number of times**. It is thus typically used when you want to iterate over a sequence (e.g., a list, tuple, string, or range) or any iterable object.\n",
    "\n",
    "### When is it used for a known number of times? Examples:\n",
    "\n",
    "1. **Ten**\n",
    "2. **Once for every item in this list**\n"
   ]
  },
  {
   "cell_type": "code",
   "execution_count": 17,
   "metadata": {},
   "outputs": [
    {
     "name": "stdout",
     "output_type": "stream",
     "text": [
      "0\n",
      "1\n",
      "2\n",
      "3\n",
      "4\n",
      "5\n",
      "6\n",
      "7\n",
      "8\n",
      "9\n"
     ]
    }
   ],
   "source": [
    "# We will spend some time disecting this for loop\n",
    "for i in range(0, 10):\n",
    "    print(i)"
   ]
  },
  {
   "cell_type": "code",
   "execution_count": 18,
   "metadata": {},
   "outputs": [
    {
     "name": "stdout",
     "output_type": "stream",
     "text": [
      "1.0\n",
      "0.6\n",
      "1.0\n",
      "0.95\n",
      "0.9\n",
      "0.7\n",
      "0.44\n"
     ]
    }
   ],
   "source": [
    "# Recall class_scores is a list created in section 2.\n",
    "for score in class_scores:\n",
    "    print(score)"
   ]
  },
  {
   "cell_type": "code",
   "execution_count": 19,
   "metadata": {},
   "outputs": [
    {
     "data": {
      "text/plain": [
       "[1.0, 0.6, 1.0, 0.95, 0.9, 0.7, 0.44]"
      ]
     },
     "execution_count": 19,
     "metadata": {},
     "output_type": "execute_result"
    }
   ],
   "source": [
    "#Copy the contents of class_scores into a copy of the class_scores list!\n",
    "\n",
    "copied_class_scores = []\n",
    "for score in class_scores:\n",
    "    copied_class_scores.append(score)\n",
    "\n",
    "copied_class_scores"
   ]
  },
  {
   "cell_type": "markdown",
   "metadata": {},
   "source": [
    "## While Loop\n",
    "\n",
    "A `while` loop is used to execute a block of code multiple times. Typically, you use a `while` loop when you want to execute this block **as long as a certain condition is true**.\n",
    "\n",
    "### When is it used for an unknown number of times? Examples:\n",
    "\n",
    "1. **While the user is holding the up arrow down**\n",
    "2. **Until this variable is greater than 100**\n",
    "\n",
    "It is useful when you don't know in advance how many iterations are needed and need to repeat an action until a certain condition is met or becomes false.\n"
   ]
  },
  {
   "cell_type": "code",
   "execution_count": 20,
   "metadata": {},
   "outputs": [
    {
     "ename": "NameError",
     "evalue": "name 'key' is not defined",
     "output_type": "error",
     "traceback": [
      "\u001b[0;31m---------------------------------------------------------------------------\u001b[0m",
      "\u001b[0;31mNameError\u001b[0m                                 Traceback (most recent call last)",
      "\u001b[1;32m/Users/gyurylee/Desktop/MIL/Week 2/py-w2-student.ipynb Cell 45\u001b[0m line \u001b[0;36m<cell line: 3>\u001b[0;34m()\u001b[0m\n\u001b[1;32m      <a href='vscode-notebook-cell:/Users/gyurylee/Desktop/MIL/Week%202/py-w2-student.ipynb#X64sZmlsZQ%3D%3D?line=0'>1</a>\u001b[0m \u001b[39m# Given to illustrate example. Will not work unless you write directions for key.isDown() and moveForward()\u001b[39;00m\n\u001b[0;32m----> <a href='vscode-notebook-cell:/Users/gyurylee/Desktop/MIL/Week%202/py-w2-student.ipynb#X64sZmlsZQ%3D%3D?line=2'>3</a>\u001b[0m \u001b[39mwhile\u001b[39;00m key\u001b[39m.\u001b[39misDown():\n\u001b[1;32m      <a href='vscode-notebook-cell:/Users/gyurylee/Desktop/MIL/Week%202/py-w2-student.ipynb#X64sZmlsZQ%3D%3D?line=3'>4</a>\u001b[0m     moveForward()\n",
      "\u001b[0;31mNameError\u001b[0m: name 'key' is not defined"
     ]
    }
   ],
   "source": [
    "# Given to illustrate example. Will not work unless you write directions for key.isDown() and moveForward()\n",
    "\n",
    "while key.isDown():\n",
    "    moveForward()"
   ]
  },
  {
   "cell_type": "code",
   "execution_count": null,
   "metadata": {},
   "outputs": [],
   "source": [
    "num = 0\n",
    "while num < 15:\n",
    "    print(num)\n",
    "    num = num + 1"
   ]
  },
  {
   "cell_type": "markdown",
   "metadata": {},
   "source": [
    "### If Statements\n",
    "An if statement is used to skip blocks of code based on boolean conditions. If statements allow you to implement logic checks and fork your code execution."
   ]
  },
  {
   "cell_type": "code",
   "execution_count": null,
   "metadata": {},
   "outputs": [],
   "source": [
    "if 2 == 2:\n",
    "    print(\"True!!\")"
   ]
  },
  {
   "cell_type": "code",
   "execution_count": null,
   "metadata": {},
   "outputs": [],
   "source": [
    "if 2 == 2:\n",
    "    print(\"True!!\")\n",
    "else:\n",
    "    print(\"False :(\")"
   ]
  },
  {
   "cell_type": "code",
   "execution_count": null,
   "metadata": {},
   "outputs": [],
   "source": [
    "if 2 == 3:\n",
    "    print(\"True!!\")\n",
    "else:\n",
    "    print(\"False :(\")"
   ]
  },
  {
   "cell_type": "code",
   "execution_count": null,
   "metadata": {},
   "outputs": [],
   "source": [
    "my_score = class_scores[0]\n",
    "if my_score >= .9:\n",
    "    print(\"A\")\n",
    "elif my_score >= .8:\n",
    "    print(\"B\")\n",
    "elif my_score >= .7:\n",
    "    print(\"C\")\n",
    "else:\n",
    "    print(\"F\")\n",
    "print(my_score)"
   ]
  },
  {
   "cell_type": "markdown",
   "metadata": {},
   "source": [
    "#### Practice - Section 2"
   ]
  },
  {
   "cell_type": "markdown",
   "metadata": {},
   "source": [
    "1. Write a for loop to print the numbers from 1 to 5."
   ]
  },
  {
   "cell_type": "code",
   "execution_count": null,
   "metadata": {},
   "outputs": [
    {
     "name": "stdout",
     "output_type": "stream",
     "text": [
      "1\n",
      "2\n",
      "3\n",
      "4\n",
      "5\n"
     ]
    }
   ],
   "source": []
  },
  {
   "cell_type": "markdown",
   "metadata": {},
   "source": [
    "2. Write a while loop to count down from 5 to 1 and print the numbers."
   ]
  },
  {
   "cell_type": "code",
   "execution_count": null,
   "metadata": {},
   "outputs": [
    {
     "name": "stdout",
     "output_type": "stream",
     "text": [
      "5\n",
      "4\n",
      "3\n",
      "2\n",
      "1\n"
     ]
    }
   ],
   "source": []
  },
  {
   "cell_type": "markdown",
   "metadata": {},
   "source": [
    "3. Create a for loop that transfers all the scores in class_scores into a list of letter grades. (Hint: create an empty list first, and then add later! Reuse the code that shown above!)"
   ]
  },
  {
   "cell_type": "code",
   "execution_count": null,
   "metadata": {},
   "outputs": [
    {
     "data": {
      "text/plain": [
       "['A', 'F', 'A', 'A', 'A', 'C', 'F']"
      ]
     },
     "execution_count": 41,
     "metadata": {},
     "output_type": "execute_result"
    }
   ],
   "source": []
  }
 ],
 "metadata": {
  "kernelspec": {
   "display_name": "Python 3 (ipykernel)",
   "language": "python",
   "name": "python3"
  },
  "language_info": {
   "codemirror_mode": {
    "name": "ipython",
    "version": 3
   },
   "file_extension": ".py",
   "mimetype": "text/x-python",
   "name": "python",
   "nbconvert_exporter": "python",
   "pygments_lexer": "ipython3",
   "version": "3.10.11"
  }
 },
 "nbformat": 4,
 "nbformat_minor": 2
}
