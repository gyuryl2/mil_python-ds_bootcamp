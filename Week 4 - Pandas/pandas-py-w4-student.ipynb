{
 "cells": [
  {
   "cell_type": "markdown",
   "metadata": {},
   "source": [
    "## Week 4 - Pandas Basics\n",
    "\n",
    "### Outline:\n",
    "\n",
    "1. Introduction to Pandas\\\n",
    "    a. Importing Libraries\\\n",
    "    b. Loading Data\n",
    "    \n",
    "2. Exploring Your Data\n",
    "\n",
    "2. Accessing Data\n",
    "\n",
    "3. Filtering Data\n",
    "\n",
    "\n"
   ]
  },
  {
   "cell_type": "markdown",
   "metadata": {},
   "source": [
    "## Introduction to Pandas\n",
    "\n",
    "\n",
    "__Pandas__ is a powerful and popular __Python__ __library__ for data manipulation and analysis. It provides data structures and functions that allow you to work with structured data, such as spreadsheets and SQL tables, allowing us to make data-driven decisions.\n",
    "\n",
    "We need to import the pandas library into our environment in order to use it below!\n",
    "\n",
    "We'll also use another essential library called __NumPy__ that is used for numerical and mathematical operations in Python, which is oftentimes used in conjunction with pandas for data analysis.\n",
    "\n"
   ]
  },
  {
   "cell_type": "code",
   "execution_count": null,
   "metadata": {},
   "outputs": [],
   "source": [
    "import pandas as pd\n",
    "import numpy as np"
   ]
  },
  {
   "cell_type": "markdown",
   "metadata": {},
   "source": [
    "## Loading Data\n",
    "\n",
    " Pandas provides a convenient way to load data from various sources, such as CSV files, Excel spreadsheets, and databases. Here, we'll focus on loading a CSV file into a DataFrame. \n",
    "\n",
    "A CSV file, which stands for \"Comma-Separated Values,\" is a plain text file format used to store tabular data, such as spreadsheets or database tables. It's used widely for data interchange, as it's simple, human-readable, and easily processed by computer programs.\n",
    "\n",
    "To load a CSV file, you can use the 'read_csv()' function as below:"
   ]
  },
  {
   "cell_type": "code",
   "execution_count": null,
   "metadata": {},
   "outputs": [],
   "source": [
    "df = pd.read_csv('sample_dataset.csv')"
   ]
  },
  {
   "cell_type": "code",
   "execution_count": null,
   "metadata": {},
   "outputs": [],
   "source": [
    "df"
   ]
  },
  {
   "cell_type": "markdown",
   "metadata": {},
   "source": [
    "### DataFrames and Series\n",
    "\n",
    "In pandas, a __DataFrame__ is a two-dimensional, table-like data structure that consists of rows and columns, similar to a spreadsheet or a table. Each column in a DataFrame is called a __Series__, which is a one-dimensional array.\n",
    "\n",
    "Each row is an instance of a person with information!"
   ]
  },
  {
   "cell_type": "markdown",
   "metadata": {},
   "source": [
    "## Exploring Your Data \n",
    "\n",
    "After loading your dataset into a DataFrame, you might want to explore and understand the data better. Pandas provides a few methods to do this through a few different methods:\n",
    "- .shape\n",
    "- .info()\n",
    "- .describe()\n",
    "\n",
    "__'shape'__ gives you the dimensions of your dataset, __'.info()'__ provides a concise summary of your data, and __'.describe()'__ generates summary statistics for numeric columns. These methods are essential for understanding your dataset and getting insights into its structure and content."
   ]
  },
  {
   "cell_type": "markdown",
   "metadata": {},
   "source": [
    "The __.shape__ attribute returns a tuple (ordered sequence of elements) representing dimensions of your data.\n",
    "The first element is the number of rows and the second element is the number of columns.\n"
   ]
  },
  {
   "cell_type": "code",
   "execution_count": null,
   "metadata": {},
   "outputs": [],
   "source": [
    "df_column_row = df.shape\n",
    "df_column_row"
   ]
  },
  {
   "cell_type": "markdown",
   "metadata": {},
   "source": [
    "The __.info()__ method provides a concise summary of your DataFrame, including information about the data types of each column, the number of non-null values, and the memory usage.\n",
    "\n",
    "It's especially useful for quickly checking data types and identifying missing values, which we want to clean out eventually before doing more with our data."
   ]
  },
  {
   "cell_type": "code",
   "execution_count": null,
   "metadata": {},
   "outputs": [],
   "source": [
    "df.info()"
   ]
  },
  {
   "cell_type": "markdown",
   "metadata": {},
   "source": [
    "The __.describe()__ method generates __summary statistics__ for all numeric columns in your DataFrame. It provides key statistics, including count, mean, standard deviation, minimum, 25th percentile, median (50th percentile), 75th percentile, and maximum.\n",
    "\n",
    "This is useful for understanding the central tendencies and distribution of your data!\n"
   ]
  },
  {
   "cell_type": "code",
   "execution_count": null,
   "metadata": {},
   "outputs": [],
   "source": [
    "df_summary = df.describe()\n",
    "df_summary"
   ]
  },
  {
   "cell_type": "markdown",
   "metadata": {},
   "source": [
    "How about if you want to see the __first few rows__ or the __last few rows__ of a DataFrame? We can use the __head()__ or __tail()__ methods. This is useful for a quick look at your data:"
   ]
  },
  {
   "cell_type": "code",
   "execution_count": null,
   "metadata": {},
   "outputs": [],
   "source": [
    "first_few_rows = df.head()\n",
    "\n",
    "first_few_rows"
   ]
  },
  {
   "cell_type": "code",
   "execution_count": null,
   "metadata": {},
   "outputs": [],
   "source": [
    "last_few_rows = df.tail()\n",
    "last_few_rows"
   ]
  },
  {
   "cell_type": "markdown",
   "metadata": {},
   "source": [
    "## Accessing Data\n",
    "\n",
    "In pandas, you can access a specific column in a DataFrame by using square brackets with the column name (sound familiar?). For example, if you have a DataFrame named 'df' and you want to access the 'Job Salary' column, you can do it like this:\n",
    "\n"
   ]
  },
  {
   "cell_type": "code",
   "execution_count": null,
   "metadata": {},
   "outputs": [],
   "source": [
    "job_salary = df['Job_Salary']\n",
    "\n",
    "job_salary"
   ]
  },
  {
   "cell_type": "markdown",
   "metadata": {},
   "source": [
    "Once we have found and accessed our column of interest, we can then use a variety of operations on the columns to extract statistical information by using methods like:\n",
    "- .mean()\n",
    "- .std()"
   ]
  },
  {
   "cell_type": "code",
   "execution_count": null,
   "metadata": {},
   "outputs": [],
   "source": [
    "job_salary.mean()\n",
    "job_salary.std()"
   ]
  },
  {
   "cell_type": "markdown",
   "metadata": {},
   "source": [
    "## Practice 1\n"
   ]
  },
  {
   "cell_type": "markdown",
   "metadata": {},
   "source": [
    "Please load the contents of column 'State' into a variable called \"sample_state\"."
   ]
  },
  {
   "cell_type": "code",
   "execution_count": null,
   "metadata": {},
   "outputs": [],
   "source": []
  },
  {
   "cell_type": "markdown",
   "metadata": {},
   "source": [
    "Please load the contents of column 'Age' into a variable called \"sample_age\"."
   ]
  },
  {
   "cell_type": "code",
   "execution_count": null,
   "metadata": {},
   "outputs": [],
   "source": []
  },
  {
   "cell_type": "markdown",
   "metadata": {},
   "source": [
    "What is the average age of the people in our dataset?"
   ]
  },
  {
   "cell_type": "code",
   "execution_count": 109,
   "metadata": {},
   "outputs": [
    {
     "data": {
      "text/plain": [
       "31.083333333333332"
      ]
     },
     "execution_count": 109,
     "metadata": {},
     "output_type": "execute_result"
    }
   ],
   "source": []
  },
  {
   "cell_type": "markdown",
   "metadata": {},
   "source": [
    "What is the standard deviation in the job salaries that we have in our dataset?"
   ]
  },
  {
   "cell_type": "code",
   "execution_count": null,
   "metadata": {},
   "outputs": [],
   "source": []
  },
  {
   "cell_type": "markdown",
   "metadata": {},
   "source": [
    "## Filtering Data\n",
    "\n",
    "Data filtering is a crucial part of data analysis in pandas. It involves selecting or removing rows from a DataFrame based on specific conditions or criteria, which allows you to focus on the data that is relevant to your analysis while excluding irrelevant or unwanted data.\n",
    "\n",
    "The syntax for selecting and removing rows based on conditions is through using a Boolean mask that specifies the condition you want to apply to the DataFrame:"
   ]
  },
  {
   "cell_type": "code",
   "execution_count": null,
   "metadata": {},
   "outputs": [],
   "source": [
    "df1 = df[condition]"
   ]
  },
  {
   "cell_type": "markdown",
   "metadata": {},
   "source": [
    "In this syntax:\n",
    "- __df__ is the DataFrame that you are working with\n",
    "- __condition__ is a Boolean expression that defines the condition you want to apply. Rows for which the condition evaluates to True are retained, and rows for which the condition evaluates to False are removed."
   ]
  },
  {
   "cell_type": "code",
   "execution_count": null,
   "metadata": {},
   "outputs": [],
   "source": [
    "# FIND people whose 'Age' is greater than or equal to 25:\n",
    "\n",
    "df_age = df[df['Age'] >= 30] \n",
    "df_age"
   ]
  },
  {
   "cell_type": "code",
   "execution_count": null,
   "metadata": {},
   "outputs": [],
   "source": [
    "# FIND the people who live in Texas\n",
    "\n",
    "df_state = df[df['State'] == 'Texas'] \n",
    "df_state"
   ]
  },
  {
   "cell_type": "code",
   "execution_count": null,
   "metadata": {},
   "outputs": [],
   "source": [
    "#Note the same outputs!! Another way to write the above:\n",
    "\n",
    "df_state1 = df[df.State == 'Texas']\n",
    "df_state1"
   ]
  },
  {
   "cell_type": "markdown",
   "metadata": {},
   "source": [
    "## Compound Filtering Using | (OR) and & (AND) Operators:\n",
    "\n",
    "In more complex filtering scenarios, you might need to combine multiple conditions using logical operators. You can use the | (OR) and & (AND) operators for compound filtering."
   ]
  },
  {
   "cell_type": "code",
   "execution_count": null,
   "metadata": {},
   "outputs": [],
   "source": [
    "# Example 3: Select rows where the 'Age' is either less than 18 or the 'State' is 'California'\n",
    "filtered_data = df[(df['Age'] < 18) | (df['State'] == 'California')]\n",
    "filtered_data"
   ]
  },
  {
   "cell_type": "markdown",
   "metadata": {},
   "source": [
    "In this example, we create a DataFrame 'filtered_data' by selecting rows where either the 'Age' is less than 18 or the 'State' is 'California. The __|__ operator is used for the __OR condition__.\n",
    "\n",
    "But...you can also use the __&__ operator for __AND conditions__:"
   ]
  },
  {
   "cell_type": "code",
   "execution_count": null,
   "metadata": {},
   "outputs": [],
   "source": [
    "# Example 4: Select rows where the 'Age' is greater than 25 and the 'Job Salary' is above 60000\n",
    "filtered_data2 = df[(df['Age'] > 25) & (df['Job_Salary'] > 60000)]\n",
    "filtered_data2"
   ]
  },
  {
   "cell_type": "markdown",
   "metadata": {},
   "source": [
    "In this case, 'filtered_data' includes rows where both conditions are met: 'Age' is greater than 25 and 'Job Salary' is above 60000."
   ]
  },
  {
   "cell_type": "markdown",
   "metadata": {},
   "source": [
    "## Practice 2"
   ]
  },
  {
   "cell_type": "markdown",
   "metadata": {},
   "source": [
    "Select rows where the Age is less than 15."
   ]
  },
  {
   "cell_type": "code",
   "execution_count": 108,
   "metadata": {},
   "outputs": [
    {
     "data": {
      "text/html": [
       "<div>\n",
       "<style scoped>\n",
       "    .dataframe tbody tr th:only-of-type {\n",
       "        vertical-align: middle;\n",
       "    }\n",
       "\n",
       "    .dataframe tbody tr th {\n",
       "        vertical-align: top;\n",
       "    }\n",
       "\n",
       "    .dataframe thead th {\n",
       "        text-align: right;\n",
       "    }\n",
       "</style>\n",
       "<table border=\"1\" class=\"dataframe\">\n",
       "  <thead>\n",
       "    <tr style=\"text-align: right;\">\n",
       "      <th></th>\n",
       "      <th>Name</th>\n",
       "      <th>Age</th>\n",
       "      <th>State</th>\n",
       "      <th>Job_Title</th>\n",
       "      <th>Job_Salary</th>\n",
       "    </tr>\n",
       "  </thead>\n",
       "  <tbody>\n",
       "  </tbody>\n",
       "</table>\n",
       "</div>"
      ],
      "text/plain": [
       "Empty DataFrame\n",
       "Columns: [Name, Age, State, Job_Title, Job_Salary]\n",
       "Index: []"
      ]
     },
     "execution_count": 108,
     "metadata": {},
     "output_type": "execute_result"
    }
   ],
   "source": []
  },
  {
   "cell_type": "markdown",
   "metadata": {},
   "source": [
    "Select rows where the 'Age' is greater than 20 or the 'Job Salary' is lower than 85000"
   ]
  },
  {
   "cell_type": "code",
   "execution_count": 107,
   "metadata": {},
   "outputs": [
    {
     "data": {
      "text/html": [
       "<div>\n",
       "<style scoped>\n",
       "    .dataframe tbody tr th:only-of-type {\n",
       "        vertical-align: middle;\n",
       "    }\n",
       "\n",
       "    .dataframe tbody tr th {\n",
       "        vertical-align: top;\n",
       "    }\n",
       "\n",
       "    .dataframe thead th {\n",
       "        text-align: right;\n",
       "    }\n",
       "</style>\n",
       "<table border=\"1\" class=\"dataframe\">\n",
       "  <thead>\n",
       "    <tr style=\"text-align: right;\">\n",
       "      <th></th>\n",
       "      <th>Name</th>\n",
       "      <th>Age</th>\n",
       "      <th>State</th>\n",
       "      <th>Job_Title</th>\n",
       "      <th>Job_Salary</th>\n",
       "    </tr>\n",
       "  </thead>\n",
       "  <tbody>\n",
       "    <tr>\n",
       "      <th>0</th>\n",
       "      <td>Alice</td>\n",
       "      <td>28</td>\n",
       "      <td>California</td>\n",
       "      <td>Data Analyst</td>\n",
       "      <td>65000</td>\n",
       "    </tr>\n",
       "    <tr>\n",
       "      <th>1</th>\n",
       "      <td>Bob</td>\n",
       "      <td>35</td>\n",
       "      <td>Texas</td>\n",
       "      <td>Software Engineer</td>\n",
       "      <td>80000</td>\n",
       "    </tr>\n",
       "    <tr>\n",
       "      <th>4</th>\n",
       "      <td>Eve</td>\n",
       "      <td>26</td>\n",
       "      <td>California</td>\n",
       "      <td>Graphic Designer</td>\n",
       "      <td>48000</td>\n",
       "    </tr>\n",
       "    <tr>\n",
       "      <th>5</th>\n",
       "      <td>Frank</td>\n",
       "      <td>30</td>\n",
       "      <td>Texas</td>\n",
       "      <td>Data Scientist</td>\n",
       "      <td>75000</td>\n",
       "    </tr>\n",
       "    <tr>\n",
       "      <th>6</th>\n",
       "      <td>Grace</td>\n",
       "      <td>33</td>\n",
       "      <td>New York</td>\n",
       "      <td>Web Developer</td>\n",
       "      <td>70000</td>\n",
       "    </tr>\n",
       "    <tr>\n",
       "      <th>7</th>\n",
       "      <td>Hannah</td>\n",
       "      <td>29</td>\n",
       "      <td>Florida</td>\n",
       "      <td>Financial Analyst</td>\n",
       "      <td>60000</td>\n",
       "    </tr>\n",
       "    <tr>\n",
       "      <th>10</th>\n",
       "      <td>Liam</td>\n",
       "      <td>29</td>\n",
       "      <td>Texas</td>\n",
       "      <td>Software Developer</td>\n",
       "      <td>60000</td>\n",
       "    </tr>\n",
       "    <tr>\n",
       "      <th>11</th>\n",
       "      <td>Sophia</td>\n",
       "      <td>32</td>\n",
       "      <td>Florida</td>\n",
       "      <td>UI/UX Designer</td>\n",
       "      <td>55000</td>\n",
       "    </tr>\n",
       "    <tr>\n",
       "      <th>12</th>\n",
       "      <td>Oliver</td>\n",
       "      <td>26</td>\n",
       "      <td>New York</td>\n",
       "      <td>Accountant</td>\n",
       "      <td>65000</td>\n",
       "    </tr>\n",
       "    <tr>\n",
       "      <th>13</th>\n",
       "      <td>Ava</td>\n",
       "      <td>27</td>\n",
       "      <td>Texas</td>\n",
       "      <td>HR Manager</td>\n",
       "      <td>75000</td>\n",
       "    </tr>\n",
       "  </tbody>\n",
       "</table>\n",
       "</div>"
      ],
      "text/plain": [
       "      Name  Age       State           Job_Title  Job_Salary\n",
       "0    Alice   28  California        Data Analyst       65000\n",
       "1      Bob   35       Texas   Software Engineer       80000\n",
       "4      Eve   26  California    Graphic Designer       48000\n",
       "5    Frank   30       Texas      Data Scientist       75000\n",
       "6    Grace   33    New York       Web Developer       70000\n",
       "7   Hannah   29     Florida   Financial Analyst       60000\n",
       "10    Liam   29       Texas  Software Developer       60000\n",
       "11  Sophia   32     Florida      UI/UX Designer       55000\n",
       "12  Oliver   26    New York          Accountant       65000\n",
       "13     Ava   27       Texas          HR Manager       75000"
      ]
     },
     "execution_count": 107,
     "metadata": {},
     "output_type": "execute_result"
    }
   ],
   "source": []
  },
  {
   "cell_type": "markdown",
   "metadata": {},
   "source": [
    "Select rows where the Age' is greater than 20 and less than 30."
   ]
  },
  {
   "cell_type": "code",
   "execution_count": 106,
   "metadata": {},
   "outputs": [
    {
     "data": {
      "text/html": [
       "<div>\n",
       "<style scoped>\n",
       "    .dataframe tbody tr th:only-of-type {\n",
       "        vertical-align: middle;\n",
       "    }\n",
       "\n",
       "    .dataframe tbody tr th {\n",
       "        vertical-align: top;\n",
       "    }\n",
       "\n",
       "    .dataframe thead th {\n",
       "        text-align: right;\n",
       "    }\n",
       "</style>\n",
       "<table border=\"1\" class=\"dataframe\">\n",
       "  <thead>\n",
       "    <tr style=\"text-align: right;\">\n",
       "      <th></th>\n",
       "      <th>Name</th>\n",
       "      <th>Age</th>\n",
       "      <th>State</th>\n",
       "      <th>Job_Title</th>\n",
       "      <th>Job_Salary</th>\n",
       "    </tr>\n",
       "  </thead>\n",
       "  <tbody>\n",
       "    <tr>\n",
       "      <th>0</th>\n",
       "      <td>Alice</td>\n",
       "      <td>28</td>\n",
       "      <td>California</td>\n",
       "      <td>Data Analyst</td>\n",
       "      <td>65000</td>\n",
       "    </tr>\n",
       "    <tr>\n",
       "      <th>4</th>\n",
       "      <td>Eve</td>\n",
       "      <td>26</td>\n",
       "      <td>California</td>\n",
       "      <td>Graphic Designer</td>\n",
       "      <td>48000</td>\n",
       "    </tr>\n",
       "    <tr>\n",
       "      <th>7</th>\n",
       "      <td>Hannah</td>\n",
       "      <td>29</td>\n",
       "      <td>Florida</td>\n",
       "      <td>Financial Analyst</td>\n",
       "      <td>60000</td>\n",
       "    </tr>\n",
       "    <tr>\n",
       "      <th>10</th>\n",
       "      <td>Liam</td>\n",
       "      <td>29</td>\n",
       "      <td>Texas</td>\n",
       "      <td>Software Developer</td>\n",
       "      <td>60000</td>\n",
       "    </tr>\n",
       "    <tr>\n",
       "      <th>12</th>\n",
       "      <td>Oliver</td>\n",
       "      <td>26</td>\n",
       "      <td>New York</td>\n",
       "      <td>Accountant</td>\n",
       "      <td>65000</td>\n",
       "    </tr>\n",
       "    <tr>\n",
       "      <th>13</th>\n",
       "      <td>Ava</td>\n",
       "      <td>27</td>\n",
       "      <td>Texas</td>\n",
       "      <td>HR Manager</td>\n",
       "      <td>75000</td>\n",
       "    </tr>\n",
       "  </tbody>\n",
       "</table>\n",
       "</div>"
      ],
      "text/plain": [
       "      Name  Age       State           Job_Title  Job_Salary\n",
       "0    Alice   28  California        Data Analyst       65000\n",
       "4      Eve   26  California    Graphic Designer       48000\n",
       "7   Hannah   29     Florida   Financial Analyst       60000\n",
       "10    Liam   29       Texas  Software Developer       60000\n",
       "12  Oliver   26    New York          Accountant       65000\n",
       "13     Ava   27       Texas          HR Manager       75000"
      ]
     },
     "execution_count": 106,
     "metadata": {},
     "output_type": "execute_result"
    }
   ],
   "source": []
  }
 ],
 "metadata": {
  "kernelspec": {
   "display_name": "Python 3",
   "language": "python",
   "name": "python3"
  },
  "language_info": {
   "codemirror_mode": {
    "name": "ipython",
    "version": 3
   },
   "file_extension": ".py",
   "mimetype": "text/x-python",
   "name": "python",
   "nbconvert_exporter": "python",
   "pygments_lexer": "ipython3",
   "version": "3.10.11"
  }
 },
 "nbformat": 4,
 "nbformat_minor": 2
}
