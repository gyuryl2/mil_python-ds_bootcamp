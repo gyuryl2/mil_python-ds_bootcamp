{
 "cells": [
  {
   "cell_type": "markdown",
   "metadata": {},
   "source": [
    "\n",
    "## Week 4 - Python Basics\n",
    "\n",
    "### Outline:\n",
    "\n",
    "\n",
    "Welcome! Some motivating background information...\n",
    "\n",
    "1. Basic Python Syntax\n",
    "2. Data Types and Supported Operations\n",
    "3. Variables and Assignment"
   ]
  },
  {
   "cell_type": "markdown",
   "metadata": {},
   "source": [
    "### Welcome!\n",
    "\n",
    "Welcome to the MIL Python Bootcamp! In this first lesson, we'll cover the basics of Python syntax and explore data types and variables. Python is an incredibly versatile programming language widely used in the business world for tasks like data analysis, automation, and decision-making. So, let's dive in!"
   ]
  },
  {
   "cell_type": "markdown",
   "metadata": {},
   "source": [
    "## Why Learn Python?\n",
    "\n",
    "### 1. Data Analysis:\n",
    "   - Data is King!\n",
    "     - Generate and collect vast amounts of data, from customer interactions to sales figures.\n",
    "   - Data-Driven Decision-Making\n",
    "     - Gain insights, identify trends, and make informed decisions to improve operational efficiency.\n",
    "\n",
    "### 2. Automation:\n",
    "   - Efficiency and Cost Reduction\n",
    "     - Reduces human error, saves time and resources.\n",
    "     - Automation in data scraping, report generation, and system monitoring.\n",
    "   - Integration and Workflow\n",
    "     - Versatile in integrating various software systems.\n",
    "\n",
    "### 3. Decision-Making:\n",
    "   - Predictive Analytics\n",
    "     - Forecast market trends, customer preferences, and financial performance.\n",
    "   - Optimization\n",
    "     - Use findings to find optimal solutions to complex business challenges.\n",
    "     - Supply chain management, resource allocation, or inventory control.\n",
    "\n",
    "### 4. Open Source Community:\n",
    "   - Robust Ecosystem\n",
    "     - Wide range of libraries and tools developed every day.\n",
    "     - Pandas, NumPy, and Matplotlib.\n",
    "   - Open Source and Cost-Effective.\n",
    "\n",
    "### 5. User-Friendly and Versatile:\n",
    "   - Readable and Easy to Learn.\n",
    "   - Versatile across all industries!\n"
   ]
  },
  {
   "cell_type": "markdown",
   "metadata": {},
   "source": [
    "## Section 1: Basic Python Syntax\n",
    "\n",
    "Python is designed to be a readable and user-friendly language. We'll start with the fundamental elements of Python syntax, which are crucial to writing code and understanding how Python works.\n",
    "\n",
    "### Print Statements and Comments\n",
    "The first essential building blocks are print statements and comments."
   ]
  },
  {
   "cell_type": "markdown",
   "metadata": {},
   "source": [
    "__Print Statements:__\n",
    "- Python provides a straightforward way to display text and results on the screen using the print() function. This function allows you to communicate with the user or to check the value of variables during the execution of your program.\n",
    "- For example, you can use print(\"Hello, World!\") to display the text \"Hello, World!\".\n",
    "\n",
    "(In Jupyter notebooks, the functionality of printing is defaulted whenever you do an operation!)"
   ]
  },
  {
   "cell_type": "code",
   "execution_count": 5,
   "metadata": {},
   "outputs": [
    {
     "name": "stdout",
     "output_type": "stream",
     "text": [
      "Hello, World!\n"
     ]
    }
   ],
   "source": [
    "print(\"Hello, World!\")"
   ]
  },
  {
   "cell_type": "code",
   "execution_count": 6,
   "metadata": {},
   "outputs": [
    {
     "data": {
      "text/plain": [
       "'Hello, World!'"
      ]
     },
     "execution_count": 6,
     "metadata": {},
     "output_type": "execute_result"
    }
   ],
   "source": [
    "\"Hello, World!\""
   ]
  },
  {
   "cell_type": "code",
   "execution_count": 7,
   "metadata": {},
   "outputs": [
    {
     "data": {
      "text/plain": [
       "'Hi! Welcome to the MIL.'"
      ]
     },
     "execution_count": 7,
     "metadata": {},
     "output_type": "execute_result"
    }
   ],
   "source": [
    "\"Hi! Welcome to the MIL.\""
   ]
  },
  {
   "cell_type": "markdown",
   "metadata": {},
   "source": [
    "__Comments:__\n",
    "- Comments are used to add explanations to your code. They are essential for making your code more readable, not only for others but also for yourself. Comments are indicated by the # symbol.\n",
    "- For example:"
   ]
  },
  {
   "cell_type": "code",
   "execution_count": 8,
   "metadata": {},
   "outputs": [
    {
     "data": {
      "text/plain": [
       "'Hello, World!'"
      ]
     },
     "execution_count": 8,
     "metadata": {},
     "output_type": "execute_result"
    }
   ],
   "source": [
    "#This is a comment!\n",
    "\n",
    "\"Hello, World!\""
   ]
  },
  {
   "cell_type": "markdown",
   "metadata": {},
   "source": [
    "## Section 2: Data Types and Operations\n",
    "\n",
    "Data types are conceptual categories of information that help us better understand how the computer interprets what we write. Here are some of the most commonly used data types in Python:\n",
    "\n",
    "- **Integers (int):** Integers represent whole numbers. They can be positive, negative, or zero. For example, `5`, `-10`, and `0` are integers.\n",
    "\n",
    "- **Floating-Point Numbers (float):** Floating-point numbers represent real numbers with a decimal point. They can also be expressed in scientific notation. For example, `3.14`, `-0.5`, and `2.5e3` (which is equivalent to `2500`) are floating-point numbers.\n",
    "\n",
    "- **Strings (str):** Strings are sequences of characters and are used to represent text. They are enclosed in single (`' '`) or double (`\" \"`) quotes. For example, `\"Hello, World!\"` is a string.\n",
    "\n",
    "- **Characters (char):** individual characters are typically represented as strings containing a single character. Examples are: `'a'`, `'x'`, and `'3'`\n",
    "\n",
    "- **Boolean (bool):** Boolean data type represents two values: `True` and `False`. It's often used in conditional statements and logical operations.\n"
   ]
  },
  {
   "cell_type": "code",
   "execution_count": 9,
   "metadata": {},
   "outputs": [],
   "source": [
    "#Explore here!"
   ]
  },
  {
   "cell_type": "markdown",
   "metadata": {},
   "source": [
    "## Section 3: Variables and Assignments\n",
    "\n",
    "### Variables:\n",
    "Variables are like containers that hold data. Think of them as labeled boxes where you can store information, where you can store data under an alias. This makes writing code easier, as you can 'remember' a value to use later in your code. These variable names help you access and manipulate the data. \n",
    "\n",
    "You can create a variable using this syntax:\n",
    "__variable_name = data__\n",
    "\n",
    "#### Note:\n",
    " 1. variables can have their value overriden\n",
    " 2. variable names cannot have a space in them\n",
    " 3. '=' is called 'the assignment operator'\n",
    " 4. any calculation on the right side of the assignment operator (=) is performed prior to storing the data"
   ]
  },
  {
   "cell_type": "code",
   "execution_count": 10,
   "metadata": {},
   "outputs": [
    {
     "data": {
      "text/plain": [
       "10"
      ]
     },
     "execution_count": 10,
     "metadata": {},
     "output_type": "execute_result"
    }
   ],
   "source": [
    "#Here, x is the variable name, and 10 is the value stored in the variable.\n",
    "#Note that we can see the contents of a variable by calling the variable name!\n",
    "\n",
    "x = 10\n",
    "x"
   ]
  },
  {
   "cell_type": "code",
   "execution_count": 11,
   "metadata": {},
   "outputs": [
    {
     "data": {
      "text/plain": [
       "'Hello, world!'"
      ]
     },
     "execution_count": 11,
     "metadata": {},
     "output_type": "execute_result"
    }
   ],
   "source": [
    "# A variable we call \"hi\" with the string \"Hello, world!\" inside it\n",
    "\n",
    "hi = \"Hello, world!\"\n",
    "hi"
   ]
  },
  {
   "cell_type": "code",
   "execution_count": 12,
   "metadata": {},
   "outputs": [
    {
     "data": {
      "text/plain": [
       "True"
      ]
     },
     "execution_count": 12,
     "metadata": {},
     "output_type": "execute_result"
    }
   ],
   "source": [
    "# We can name our variables whatever we want -> readability!\n",
    "\n",
    "the_weather_is_nice_today = True\n",
    "the_weather_is_nice_today"
   ]
  },
  {
   "cell_type": "markdown",
   "metadata": {},
   "source": [
    "### So we have an integer, a string, and a boolean...notice that these all look different!\n",
    "\n",
    "In Python, __data types are automatically determined__ by the interpreter based on the values you assign to variables or the data you manipulate in your code. \n",
    "\n",
    "Python uses a concept called __\"dynamic typing\"__ or __\"duck typing\"__, which means you don't explicitly specify data types when declaring variables! Instead, Python infers the data type from the context and the values you provide."
   ]
  },
  {
   "cell_type": "markdown",
   "metadata": {},
   "source": [
    "## Practice 1"
   ]
  },
  {
   "cell_type": "markdown",
   "metadata": {},
   "source": [
    "__1. Create a variable 'x' and assign the value 5 to it. Print the value of 'x'.__"
   ]
  },
  {
   "cell_type": "code",
   "execution_count": null,
   "metadata": {},
   "outputs": [],
   "source": []
  },
  {
   "cell_type": "markdown",
   "metadata": {},
   "source": [
    "__2. Assign your favorite color to a variable 'color'__"
   ]
  },
  {
   "cell_type": "code",
   "execution_count": null,
   "metadata": {},
   "outputs": [],
   "source": []
  },
  {
   "cell_type": "markdown",
   "metadata": {},
   "source": [
    "__3. What year were you born in? Store the year in a variable called \"born_in_year\"__"
   ]
  },
  {
   "cell_type": "code",
   "execution_count": null,
   "metadata": {},
   "outputs": [],
   "source": []
  },
  {
   "cell_type": "markdown",
   "metadata": {},
   "source": [
    "__3. Check the time! What time is it? Write the time as a string and print it out.__"
   ]
  },
  {
   "cell_type": "code",
   "execution_count": null,
   "metadata": {},
   "outputs": [],
   "source": []
  },
  {
   "cell_type": "markdown",
   "metadata": {},
   "source": [
    "## Python Operations \n",
    "\n",
    "Data types in Python play a crucial role in determining __what kinds of operations can be performed__ on them. Here's an explanation of how data types influence the operations that can be performed:\n",
    "\n",
    "- **Integers (int):**\n",
    "  - Supports operations such as __addition__ (+), __subtraction__ (-), __multiplication__ (*), __division__ (/), and __modulus__(%)\n",
    "\n",
    "- **Floating-Point Numbers (float):**\n",
    "  - You can perform various mathematical __operations on float numbers, just like integers__. However, due to the nature of floating-point representation, there can be issues with precision in some calculations.\n",
    "\n",
    "- **Strings (str):**\n",
    "  - various operations including:\n",
    "    - __Concatenation__: Combining two or more strings together. \n",
    "    - __Slicing__: Extracting specific portions of the string. \n",
    "    - Finding the length of the string using __len()__ \n",
    "    - Searching for substrings.\n",
    "    - Replacing parts of the string.\n",
    "    - Formatting and manipulating text in numerous ways.\n",
    "    - __Indexing__: Accessing individual characters by their position.\n",
    "\n",
    "- **Characters (char):**\n",
    "  - Same operations as strings!\n",
    "\n",
    "- **Boolean (bool):**\n",
    "  - perform __logical operations__ like AND (and), OR (or), and NOT (not) with boolean values. \n",
    "  - essential for control flow and loops!\n"
   ]
  },
  {
   "cell_type": "code",
   "execution_count": 22,
   "metadata": {},
   "outputs": [
    {
     "name": "stdout",
     "output_type": "stream",
     "text": [
      "Addition: 7.5, Subtraction: 2.5, Multiplication: 12.5, Division: 2.0, Exponentiation: 55.90169943749474, Integer Division: 2.0, Modulo: 0.0\n"
     ]
    }
   ],
   "source": [
    "# Valid Arithmetic Operations\n",
    "x = 5\n",
    "y = 2.5\n",
    "\n",
    "addition = x + y\n",
    "subtraction = x - y\n",
    "multiplication = x * y\n",
    "division = x / y\n",
    "exponentiation = x ** y\n",
    "integer_division = x // y\n",
    "modulo = x % y\n",
    "\n",
    "print(f\"Addition: {addition}, Subtraction: {subtraction}, Multiplication: {multiplication}, Division: {division}, Exponentiation: {exponentiation}, Integer Division: {integer_division}, Modulo: {modulo}\")"
   ]
  },
  {
   "cell_type": "code",
   "execution_count": 23,
   "metadata": {},
   "outputs": [],
   "source": [
    "# Invalid Arithmetic Operations\n",
    "# Uncommenting these lines will result in errors.\n",
    "\n",
    "# invalid_operation = x + string1\n",
    "# invalid_operation = string1 * string2"
   ]
  },
  {
   "cell_type": "code",
   "execution_count": 24,
   "metadata": {},
   "outputs": [
    {
     "name": "stdout",
     "output_type": "stream",
     "text": [
      "concatenation: Hello World, repetition: HelloHelloHello, length_of_string: 5\n"
     ]
    }
   ],
   "source": [
    "# Valid String Operations\n",
    "string1 = \"Hello\"\n",
    "string2 = \"World\"\n",
    "\n",
    "concatenation = string1 + \" \" + string2\n",
    "repetition = string1 * 3\n",
    "length_of_string = len(string1)\n",
    "\n",
    "print(f\"concatenation: {concatenation}, repetition: {repetition}, length_of_string: {length_of_string}\")"
   ]
  },
  {
   "cell_type": "code",
   "execution_count": 48,
   "metadata": {},
   "outputs": [
    {
     "name": "stdout",
     "output_type": "stream",
     "text": [
      "Slice 1: Hello, Slice 2: Python, first_char: H, last_char: !\n"
     ]
    }
   ],
   "source": [
    "#More valid string operations\n",
    "text = \"Hello, Python World!\"\n",
    "\n",
    "# Slicing the string\n",
    "slice1 = text[0:5]  # Get characters from index 0 to 4\n",
    "slice2 = text[7:13]  # Get characters from index 7 to 12\n",
    "\n",
    "# Indexing and Accessing Characters\n",
    "first_char = text[0]  # Get the first character\n",
    "last_char = text[-1]  # Get the last character\n",
    "\n",
    "print(f\"Slice 1: {slice1}, Slice 2: {slice2}, first_char: {first_char}, last_char: {last_char}\")"
   ]
  },
  {
   "cell_type": "code",
   "execution_count": 25,
   "metadata": {},
   "outputs": [],
   "source": [
    "# Invalid String Operations\n",
    "# Uncommenting these lines will result in errors.\n",
    "\n",
    "# invalid_operation = string1 + 42\n"
   ]
  },
  {
   "cell_type": "code",
   "execution_count": 44,
   "metadata": {},
   "outputs": [
    {
     "name": "stdout",
     "output_type": "stream",
     "text": [
      "is_2_equal_to_2: True, is_2_greater_than_89: False, is_2_less_than_or_equal_to_89: True\n"
     ]
    }
   ],
   "source": [
    "# Valid Boolean Operations\n",
    "is_2_equal_to_2 = (2 == 2)\n",
    "is_2_greater_than_89 = (2 > 89)\n",
    "is_2_less_than_or_equal_to_89 = (2 <= 89)\n",
    "\n",
    "print(f\"is_2_equal_to_2: {is_2_equal_to_2}, is_2_greater_than_89: {is_2_greater_than_89}, is_2_less_than_or_equal_to_89: {is_2_less_than_or_equal_to_89}\")"
   ]
  },
  {
   "cell_type": "code",
   "execution_count": null,
   "metadata": {},
   "outputs": [],
   "source": [
    "#More valid Boolean Operations\n",
    "is_true = True\n",
    "is_false = False\n",
    "\n",
    "reverse_is_true = not is_true\n",
    "reverse_is_false = not is_false\n",
    "logical_and = is_true and is_false\n",
    "logical_or = is_true or is_false\n",
    "logical_not = not is_true\n",
    "\n",
    "print(f\"reverse_is_true: {reverse_is_true}, reverse_is_false: {reverse_is_false}, logical_and: {logical_and}, logical_or: {logical_or}, logical_not: {logical_not}\")"
   ]
  },
  {
   "cell_type": "code",
   "execution_count": 36,
   "metadata": {},
   "outputs": [],
   "source": [
    "# Invalid Boolean Operations\n",
    "# Uncommenting these lines will result in errors.\n",
    "\n",
    "# invalid_operation = is_true + is_false"
   ]
  },
  {
   "cell_type": "markdown",
   "metadata": {},
   "source": [
    "## Practice 2"
   ]
  },
  {
   "cell_type": "markdown",
   "metadata": {},
   "source": [
    "__1. Define two variables called length and width that store 2 integer numbers 5 and 3. Calculate the area of a rectangle with length 5 and width 3. Print the result.__"
   ]
  },
  {
   "cell_type": "code",
   "execution_count": 37,
   "metadata": {},
   "outputs": [
    {
     "data": {
      "text/plain": [
       "15"
      ]
     },
     "execution_count": 37,
     "metadata": {},
     "output_type": "execute_result"
    }
   ],
   "source": []
  },
  {
   "cell_type": "markdown",
   "metadata": {},
   "source": [
    "__2. Create two strings, one containing your first name, and one containing your last name, and concatenate them. Print the combined string.__\n"
   ]
  },
  {
   "cell_type": "code",
   "execution_count": null,
   "metadata": {},
   "outputs": [],
   "source": []
  },
  {
   "cell_type": "markdown",
   "metadata": {},
   "source": [
    "__3. Calculate the average of five test scores: 88, 92, 78, 90, and 85. Print the average.__"
   ]
  },
  {
   "cell_type": "code",
   "execution_count": null,
   "metadata": {},
   "outputs": [],
   "source": []
  },
  {
   "cell_type": "markdown",
   "metadata": {},
   "source": [
    "__4. Create a variable 'price' and assign the cost of a product (e.g., $19.99). Calculate the total cost if you want to buy three of these products.__\n"
   ]
  },
  {
   "cell_type": "code",
   "execution_count": null,
   "metadata": {},
   "outputs": [],
   "source": []
  },
  {
   "cell_type": "markdown",
   "metadata": {},
   "source": [
    "__5. Define two variables, 'distance_km' and 'time_hrs' and assign two different numbers to them. Calculate and print the speed in kilometers per hour (speed = distance / time).__\n"
   ]
  },
  {
   "cell_type": "code",
   "execution_count": null,
   "metadata": {},
   "outputs": [],
   "source": []
  },
  {
   "cell_type": "markdown",
   "metadata": {},
   "source": [
    "__6. Given the string called \"how_to_read_a_book\" below, please print the second to last character.__"
   ]
  },
  {
   "cell_type": "code",
   "execution_count": 17,
   "metadata": {},
   "outputs": [],
   "source": [
    "how_to_read_a_book = \"Reading a book is a delightful journey through the pages of imagination. To read a book, find a quiet and comfortable place where you can immerse yourself in the story. Start by opening the book and turning the pages with a sense of anticipation. As you read, allow yourself to get lost in the words, visualize the scenes, and connect with the characters. Take your time, savoring each chapter, and don't rush through the pages. Engage with the author's ideas and let the book transport you to new worlds. Whether it's fiction, non-fiction, or a textbook, reading is a gateway to knowledge, empathy, and endless adventures.\"\n",
    "#write your code below!\n"
   ]
  }
 ],
 "metadata": {
  "kernelspec": {
   "display_name": "Python 3 (ipykernel)",
   "language": "python",
   "name": "python3"
  },
  "language_info": {
   "codemirror_mode": {
    "name": "ipython",
    "version": 3
   },
   "file_extension": ".py",
   "mimetype": "text/x-python",
   "name": "python",
   "nbconvert_exporter": "python",
   "pygments_lexer": "ipython3",
   "version": "3.10.11"
  }
 },
 "nbformat": 4,
 "nbformat_minor": 2
}
