{
 "cells": [
  {
   "cell_type": "markdown",
   "metadata": {},
   "source": [
    "## Week 3 - Python Functions\n",
    "\n",
    "### Outline:\n",
    "1. Review of Python Datatypes/structures\n",
    "2. Defining and Writing a Function \n",
    "3. Calling and Using Functions"
   ]
  },
  {
   "cell_type": "markdown",
   "metadata": {},
   "source": [
    "## Section 1 - Review\n",
    "\n",
    "Integers, Booleans, Strings, and Characters are all examples of basic data types, which make up more complicated data structures are called __objects__. \n",
    "- Lists are comma separated lists of values of the same basic datatype\n",
    "    - ex. class_scores = [.85, .60, 1.0, .95, .9, .7]\n",
    "- A dictionary is a data type that allows us to associate a data value with a key\n",
    "    - ex. named_class_scores = {'Adam' : .8, \n",
    "                                'Eddie' : 1.0,\n",
    "                                'Bennett' : .9,\n",
    "                                'Mariel' : .85}\n",
    "\n",
    "\n",
    "__Control structures__:\n",
    "Usually, code executes line-by-line. The computer will read from the top of the document to the bottom and execute code accordingly. There are several ways to change this, one of which is using a control structure, whichi is a block of programming that analyses variables and chooses a direction in which to go based on given parameters.\n",
    "- If statement is used to skip blocks of code based on boolean conditions\n",
    "- for/while loops are used to execute a block of code multiple times\n",
    "\n"
   ]
  },
  {
   "cell_type": "code",
   "execution_count": 3,
   "metadata": {},
   "outputs": [
    {
     "name": "stdout",
     "output_type": "stream",
     "text": [
      "True!!\n"
     ]
    }
   ],
   "source": [
    "#if statement example:\n",
    "\n",
    "if 2 == 2:\n",
    "    print(\"True!!\")\n",
    "else:\n",
    "    print(\"False :(\")\n"
   ]
  },
  {
   "cell_type": "code",
   "execution_count": 4,
   "metadata": {},
   "outputs": [
    {
     "name": "stdout",
     "output_type": "stream",
     "text": [
      "0\n",
      "1\n",
      "2\n",
      "3\n",
      "4\n",
      "5\n",
      "6\n",
      "7\n",
      "8\n",
      "9\n"
     ]
    }
   ],
   "source": [
    "# for loop example:\n",
    "for i in range(0, 10):\n",
    "    print(i)"
   ]
  },
  {
   "cell_type": "code",
   "execution_count": 5,
   "metadata": {},
   "outputs": [
    {
     "name": "stdout",
     "output_type": "stream",
     "text": [
      "0\n",
      "1\n",
      "2\n",
      "3\n",
      "4\n",
      "5\n",
      "6\n",
      "7\n",
      "8\n",
      "9\n",
      "10\n",
      "11\n",
      "12\n",
      "13\n",
      "14\n"
     ]
    }
   ],
   "source": [
    "# while loop example\n",
    "num = 0\n",
    "while num < 15:\n",
    "    print(num)\n",
    "    num = num + 1"
   ]
  },
  {
   "cell_type": "markdown",
   "metadata": {},
   "source": [
    "## What are functions? Why are functions important?\n",
    "\n",
    "__Functions__ are blocks of code that are written to perform a specific task or set of tasks. They are defined using the __def__ keyword followed by the function name, parentheses, and a colon. Functions can have parameters (inputs) and __return__ a value (output) using the return keyword using those parameters.\n",
    "\n",
    "Functions are fundamental building blocks in Python programming and play a crucial role in developing efficient, modular, and reusable code. Here are a few reasons why they are important:\n",
    "- reuse code more easily across different applications\n",
    "- read and maintain programs with greater ease \n",
    "- organize code more effectively\n",
    "\n",
    "Here's an example!"
   ]
  },
  {
   "cell_type": "code",
   "execution_count": 6,
   "metadata": {},
   "outputs": [],
   "source": [
    "def add_numbers(a, b):\n",
    "    result = a + b\n",
    "    return result"
   ]
  },
  {
   "cell_type": "markdown",
   "metadata": {},
   "source": [
    "In this example, the add_numbers() function is defined to take two parameters, a and b, and returns their sum. The return statement is used to specify the value that the function will give back when called."
   ]
  },
  {
   "cell_type": "markdown",
   "metadata": {},
   "source": [
    "You may notice that running the above cell does not give you an output! The reason for this is that we must __call the function__ and __store the returned result__ in a variable and print the variable so that we can see it, like this:"
   ]
  },
  {
   "cell_type": "code",
   "execution_count": 8,
   "metadata": {},
   "outputs": [
    {
     "name": "stdout",
     "output_type": "stream",
     "text": [
      "5\n"
     ]
    }
   ],
   "source": [
    "sum_result = add_numbers(2, 3)\n",
    "print(sum_result)  # Output: 5\n"
   ]
  },
  {
   "cell_type": "markdown",
   "metadata": {},
   "source": [
    "Functions can be called multiple times, and they can include conditional statements, loops, or other functions inside them. They can also be used to perform complex operations, handle data, or solve specific problems in a more organized and reusable way."
   ]
  },
  {
   "cell_type": "markdown",
   "metadata": {},
   "source": [
    "## Section 2: Defining and Writing Functions (Function Syntax)\n",
    "\n",
    "1. Use the def keyword followed by the function name to start the function definition.\n",
    "2. Add parentheses after the function name. Inside the parentheses, you can include parameters (optional) separated by commas. Parameters allow you to pass data into the function.\n",
    "3. Place a colon (:) at the end of the function definition line.\n",
    "4. Indent the code block that belongs to the function. This code block contains the instructions that define what the function does. Use spaces or tabs for indentation (consistency is key!!).\n",
    "5. Inside the code block, write the necessary code to perform the desired tasks. You can include assignments, loops, conditionals, and other function calls.\n",
    "6. If needed, use the return statement to specify the value that the function will give back when called. The return statement is optional, and a function can have multiple return statements.\n"
   ]
  },
  {
   "cell_type": "code",
   "execution_count": 10,
   "metadata": {},
   "outputs": [
    {
     "ename": "SyntaxError",
     "evalue": "invalid syntax (3231684741.py, line 1)",
     "output_type": "error",
     "traceback": [
      "\u001b[0;36m  Input \u001b[0;32mIn [10]\u001b[0;36m\u001b[0m\n\u001b[0;31m    def function_name(parameter1, parameter2, ...):\u001b[0m\n\u001b[0m                                              ^\u001b[0m\n\u001b[0;31mSyntaxError\u001b[0m\u001b[0;31m:\u001b[0m invalid syntax\n"
     ]
    }
   ],
   "source": [
    "def function_name(parameter1, parameter2, ...):\n",
    "    # Code block for the function\n",
    "    # Indented code that performs specific tasks\n",
    "    # Return statement (optional but if we want to define a variable with the output of our function it is necessary"
   ]
  },
  {
   "cell_type": "markdown",
   "metadata": {},
   "source": [
    "## Section 3 - Calling and Using Functions\n",
    "\n",
    "\n",
    "### Is our number even or odd?\n",
    "\n",
    "Let's try writing a function that tells us whether or not an input is even or odd! We'll be using an if-else statement in this function.\n",
    "\n",
    "First, we write the function declaration (the first line) with the \"def\" keyword, and the name we want to call our function, as well as our input in parantheses, and then a colon.\n",
    "\n",
    "Then, we use a basic if-else statement where we use the modulus operator to see if a number divided by 2 is 0. If it is, then we return true. If not, we return false.\n"
   ]
  },
  {
   "cell_type": "code",
   "execution_count": 11,
   "metadata": {},
   "outputs": [],
   "source": [
    "def is_even(number):\n",
    "    if number % 2 == 0:\n",
    "        return True\n",
    "    else:\n",
    "        return False\n"
   ]
  },
  {
   "cell_type": "markdown",
   "metadata": {},
   "source": [
    "Now let's call our function and store the result in another variable called result, and print it.\n",
    "\n",
    "To call a function in Python, you simply need to use the function's name followed by parentheses. If the function expects any arguments (input), you pass them inside the parentheses."
   ]
  },
  {
   "cell_type": "code",
   "execution_count": 15,
   "metadata": {},
   "outputs": [
    {
     "name": "stdout",
     "output_type": "stream",
     "text": [
      "True\n"
     ]
    }
   ],
   "source": [
    "result = is_even(6)\n",
    "print(result)  # Output: True"
   ]
  },
  {
   "cell_type": "markdown",
   "metadata": {},
   "source": [
    "We can also call functions inside of a for loop or other control structure to repeat the same operation to each term in the list:"
   ]
  },
  {
   "cell_type": "code",
   "execution_count": 17,
   "metadata": {},
   "outputs": [
    {
     "data": {
      "text/plain": [
       "[True, False, True, False, True, False, True, False, True, False]"
      ]
     },
     "execution_count": 17,
     "metadata": {},
     "output_type": "execute_result"
    }
   ],
   "source": [
    "#Create a list of numbers and create another list that is empty to store our results\n",
    "\n",
    "nums = [0,1,2,3,4,5,6,7,8,9]\n",
    "nums_even_result = []\n",
    "\n",
    "for num in nums:    #For every element in our list\n",
    "    is_current_num_even = is_even(num)  #create a variable storing the results of the function call\n",
    "    nums_even_result.append(is_current_num_even) #append the variable to the empty list \n",
    "\n",
    "nums_even_result    #See our results!"
   ]
  },
  {
   "cell_type": "markdown",
   "metadata": {},
   "source": [
    "#### Practice!"
   ]
  },
  {
   "cell_type": "markdown",
   "metadata": {},
   "source": [
    "Write a function called square_number that takes a number as an input and returns the square of that number. Test the function by calling it with different numbers."
   ]
  },
  {
   "cell_type": "code",
   "execution_count": 5,
   "metadata": {},
   "outputs": [
    {
     "name": "stdout",
     "output_type": "stream",
     "text": [
      "25\n"
     ]
    }
   ],
   "source": [
    "\n"
   ]
  },
  {
   "cell_type": "markdown",
   "metadata": {},
   "source": [
    "Write a function called get_average that takes a list of numbers as input and returns the average (mean) of those numbers. Test the function with different lists of numbers. Remember that we can use the __sum()__ and __len()__ functions with lists!"
   ]
  },
  {
   "cell_type": "code",
   "execution_count": 4,
   "metadata": {},
   "outputs": [
    {
     "name": "stdout",
     "output_type": "stream",
     "text": [
      "7.0\n"
     ]
    }
   ],
   "source": []
  },
  {
   "cell_type": "markdown",
   "metadata": {},
   "source": [
    "Write a function called calculate_triangle_area that takes the base and height of a triangle as input and returns the area of the triangle. Test the function by passing different values for base and height."
   ]
  },
  {
   "cell_type": "code",
   "execution_count": 3,
   "metadata": {},
   "outputs": [
    {
     "name": "stdout",
     "output_type": "stream",
     "text": [
      "10.0\n"
     ]
    }
   ],
   "source": [
    "\n"
   ]
  }
 ],
 "metadata": {
  "kernelspec": {
   "display_name": "Python 3",
   "language": "python",
   "name": "python3"
  },
  "language_info": {
   "codemirror_mode": {
    "name": "ipython",
    "version": 3
   },
   "file_extension": ".py",
   "mimetype": "text/x-python",
   "name": "python",
   "nbconvert_exporter": "python",
   "pygments_lexer": "ipython3",
   "version": "3.10.11"
  }
 },
 "nbformat": 4,
 "nbformat_minor": 2
}
